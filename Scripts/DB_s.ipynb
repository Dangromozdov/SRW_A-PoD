{
 "cells": [
  {
   "cell_type": "code",
   "execution_count": 36,
   "id": "f1985439",
   "metadata": {},
   "outputs": [],
   "source": [
    "import re\n",
    "import pandas as pd\n",
    "import psycopg2\n",
    "from datetime import datetime, timedelta, date"
   ]
  },
  {
   "cell_type": "code",
   "execution_count": 38,
   "id": "804cb612",
   "metadata": {},
   "outputs": [],
   "source": [
    "con = psycopg2.connect(\n",
    " database=\"postgres\", \n",
    " user=\"postgres\", \n",
    " password=\"********\", \n",
    " host=\"localhost\", \n",
    " port=\"****\"\n",
    ")\n",
    "cur = con.cursor()\n"
   ]
  },
  {
   "cell_type": "code",
   "execution_count": 29,
   "id": "015840b5",
   "metadata": {},
   "outputs": [],
   "source": [
    "df_db = pd.read_csv(\"archive/spam_ham_dataset.csv\", sep=',')"
   ]
  },
  {
   "cell_type": "code",
   "execution_count": 30,
   "id": "b0389489",
   "metadata": {},
   "outputs": [
    {
     "data": {
      "text/html": [
       "<div>\n",
       "<style scoped>\n",
       "    .dataframe tbody tr th:only-of-type {\n",
       "        vertical-align: middle;\n",
       "    }\n",
       "\n",
       "    .dataframe tbody tr th {\n",
       "        vertical-align: top;\n",
       "    }\n",
       "\n",
       "    .dataframe thead th {\n",
       "        text-align: right;\n",
       "    }\n",
       "</style>\n",
       "<table border=\"1\" class=\"dataframe\">\n",
       "  <thead>\n",
       "    <tr style=\"text-align: right;\">\n",
       "      <th></th>\n",
       "      <th>Unnamed: 0</th>\n",
       "      <th>label</th>\n",
       "      <th>text</th>\n",
       "      <th>label_num</th>\n",
       "    </tr>\n",
       "  </thead>\n",
       "  <tbody>\n",
       "    <tr>\n",
       "      <th>0</th>\n",
       "      <td>605</td>\n",
       "      <td>ham</td>\n",
       "      <td>Subject: enron methanol ; meter # : 988291\\r\\n...</td>\n",
       "      <td>0</td>\n",
       "    </tr>\n",
       "    <tr>\n",
       "      <th>1</th>\n",
       "      <td>2349</td>\n",
       "      <td>ham</td>\n",
       "      <td>Subject: hpl nom for january 9 , 2001\\r\\n( see...</td>\n",
       "      <td>0</td>\n",
       "    </tr>\n",
       "    <tr>\n",
       "      <th>2</th>\n",
       "      <td>3624</td>\n",
       "      <td>ham</td>\n",
       "      <td>Subject: neon retreat\\r\\nho ho ho , we ' re ar...</td>\n",
       "      <td>0</td>\n",
       "    </tr>\n",
       "    <tr>\n",
       "      <th>3</th>\n",
       "      <td>4685</td>\n",
       "      <td>spam</td>\n",
       "      <td>Subject: photoshop , windows , office . cheap ...</td>\n",
       "      <td>1</td>\n",
       "    </tr>\n",
       "    <tr>\n",
       "      <th>4</th>\n",
       "      <td>2030</td>\n",
       "      <td>ham</td>\n",
       "      <td>Subject: re : indian springs\\r\\nthis deal is t...</td>\n",
       "      <td>0</td>\n",
       "    </tr>\n",
       "  </tbody>\n",
       "</table>\n",
       "</div>"
      ],
      "text/plain": [
       "   Unnamed: 0 label                                               text  \\\n",
       "0         605   ham  Subject: enron methanol ; meter # : 988291\\r\\n...   \n",
       "1        2349   ham  Subject: hpl nom for january 9 , 2001\\r\\n( see...   \n",
       "2        3624   ham  Subject: neon retreat\\r\\nho ho ho , we ' re ar...   \n",
       "3        4685  spam  Subject: photoshop , windows , office . cheap ...   \n",
       "4        2030   ham  Subject: re : indian springs\\r\\nthis deal is t...   \n",
       "\n",
       "   label_num  \n",
       "0          0  \n",
       "1          0  \n",
       "2          0  \n",
       "3          1  \n",
       "4          0  "
      ]
     },
     "execution_count": 30,
     "metadata": {},
     "output_type": "execute_result"
    }
   ],
   "source": [
    "df_db.head()"
   ]
  },
  {
   "cell_type": "code",
   "execution_count": 4,
   "id": "f276c635",
   "metadata": {},
   "outputs": [],
   "source": [
    "sql_create = 'CREATE TABLE class (id serial PRIMARY KEY, text text NOT NULL, date date NOT NULL)'"
   ]
  },
  {
   "cell_type": "code",
   "execution_count": 5,
   "id": "5e474ee3",
   "metadata": {},
   "outputs": [],
   "source": [
    "cur.execute(sql_create)\n",
    "con.commit()"
   ]
  },
  {
   "cell_type": "code",
   "execution_count": 39,
   "id": "69dcf47d",
   "metadata": {},
   "outputs": [],
   "source": [
    "t = 'class'\n",
    "counter = 1\n",
    "day = datetime.today().date()\n",
    "for i in range(999): \n",
    "    if counter%10 == 0:\n",
    "        te = df_db.iloc[i, 2]\n",
    "        te = re.sub(\"[\\']\",\" \", te)\n",
    "        day= day+ timedelta(-1)\n",
    "        day1 = day.isoformat()\n",
    "        d = day1\n",
    "        insert_sql = \"INSERT INTO \" + t + \" (text, date) VALUES ('\"+ str(te) + \"','\" +str(d)+\"')\"\n",
    "        cur.execute(insert_sql)\n",
    "        con.commit()\n",
    "    else: \n",
    "        te = df_db.iloc[i, 2]\n",
    "        te = re.sub(\"[\\']\",\" \", te)\n",
    "        day1 = day.isoformat()\n",
    "        d = day1\n",
    "        insert_sql = \"INSERT INTO \" + t + \" (text, date) VALUES ('\"+ str(te) + \"','\" +str(d)+\"')\"\n",
    "        cur.execute(insert_sql)\n",
    "        con.commit()\n",
    "    counter+=1"
   ]
  },
  {
   "cell_type": "code",
   "execution_count": 28,
   "id": "09c01eec",
   "metadata": {},
   "outputs": [
    {
     "name": "stdout",
     "output_type": "stream",
     "text": [
      "['2022-09-02']\n"
     ]
    }
   ],
   "source": [
    "dayt = []\n",
    "dayt.append(day1)\n",
    "print(dayt)\n"
   ]
  },
  {
   "cell_type": "code",
   "execution_count": 33,
   "id": "48933ccf",
   "metadata": {},
   "outputs": [
    {
     "name": "stdout",
     "output_type": "stream",
     "text": [
      "INSERT INTO class (text, date) VALUES ('Subject: re : new production - sitara deals needed\r\n",
      "vance ,\r\n",
      "deals # 348725 ( 6 / 10 - 6 / 30 ) and # 348729 ( 7 / 1 - 7 / 31 ) have been created and\r\n",
      "entered in sitara for hesco .\r\n",
      "hillary ,\r\n",
      "do not confirm .\r\n",
      "bob\r\n",
      "vance l taylor\r\n",
      "07 / 28 / 2000 01 : 24 pm\r\n",
      "to : robert cotten / hou / ect @ ect\r\n",
      "cc : lisa hesse / hou / ect @ ect , trisha hughes / hou / ect @ ect , heidi\r\n",
      "withers / hou / ect @ ect , hillary mack / corp / enron @ enron , susan smith / hou / ect @ ect ,\r\n",
      "donald p reinhardt / hou / ect @ ect , melissa graves / hou / ect @ ect\r\n",
      "subject : new production - sitara deals needed\r\n",
      "bob ,\r\n",
      "the following production is now on - line and a ticket should be created and\r\n",
      "entered into sitara based on the following :\r\n",
      "counterparty meter volumes price period\r\n",
      "hesco gathering oil co 9835 600 mmbtu / d 96 % gas daily less $ 0 . 14\r\n",
      "6 / 10 - 7 / 31\r\n",
      "samson lone star limited 9845 3000 mmbtu / d 100 % gas daily less $ 0 . 10 7 / 21 -\r\n",
      "7 / 31\r\n",
      "winn exploration co . , inc . 9847 800 mmbtu / d 100 % gas daily less $ 0 . 13 7 / 25\r\n",
      "- 7 / 31\r\n",
      "( for fuel use less 3 . 35 % of del vols )\r\n",
      "fyi , susan has created and submitted committed reserves firm tickets for the\r\n",
      "remaining term of the deal beginning with the month of august . additionally ,\r\n",
      "these are producer svcs . deals and should be tracked in the im wellhead\r\n",
      "portfolio . . . attached to the gathering contract .\r\n",
      "thanks ,\r\n",
      "vlt\r\n",
      "x 3 - 6353','2022-09-02')\n"
     ]
    }
   ],
   "source": [
    "t = 'class'\n",
    "x = 45\n",
    "te = df_db.iloc[x, 2]\n",
    "d = day1\n",
    "insert_sql = \"INSERT INTO \" + t + \" (text, date) VALUES ('\"+ str(te) + \"','\" +str(d)+\"')\"\n",
    "print(insert_sql)"
   ]
  },
  {
   "cell_type": "code",
   "execution_count": null,
   "id": "f9187cd2",
   "metadata": {},
   "outputs": [],
   "source": []
  }
 ],
 "metadata": {
  "kernelspec": {
   "display_name": "Python 3 (ipykernel)",
   "language": "python",
   "name": "python3"
  },
  "language_info": {
   "codemirror_mode": {
    "name": "ipython",
    "version": 3
   },
   "file_extension": ".py",
   "mimetype": "text/x-python",
   "name": "python",
   "nbconvert_exporter": "python",
   "pygments_lexer": "ipython3",
   "version": "3.8.10"
  }
 },
 "nbformat": 4,
 "nbformat_minor": 5
}
